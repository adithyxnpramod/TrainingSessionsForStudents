{
  "nbformat": 4,
  "nbformat_minor": 0,
  "metadata": {
    "colab": {
      "provenance": [],
      "include_colab_link": true
    },
    "kernelspec": {
      "name": "python3",
      "display_name": "Python 3"
    },
    "language_info": {
      "name": "python"
    }
  },
  "cells": [
    {
      "cell_type": "markdown",
      "metadata": {
        "id": "view-in-github",
        "colab_type": "text"
      },
      "source": [
        "<a href=\"https://colab.research.google.com/github/adithyxnpramod/TrainingSessionsForStudents/blob/main/Multiple_linear_regression.ipynb\" target=\"_parent\"><img src=\"https://colab.research.google.com/assets/colab-badge.svg\" alt=\"Open In Colab\"/></a>"
      ]
    },
    {
      "cell_type": "code",
      "execution_count": 2,
      "metadata": {
        "colab": {
          "base_uri": "https://localhost:8080/"
        },
        "id": "fIiCnpJSpOf2",
        "outputId": "97c923fa-95dc-41fe-afe9-730c09bc4df7"
      },
      "outputs": [
        {
          "output_type": "stream",
          "name": "stdout",
          "text": [
            "Coefficients: [ 156.48414986 7809.79827089]\n",
            "Intercept: 87406.34005763676\n",
            "Predictions: [361210.37463977 462910.66282421]\n",
            "Coefficient for square footage: 156.48414985590787\n",
            "Coefficient for number of bedrooms: 7809.798270893372\n"
          ]
        }
      ],
      "source": [
        "import numpy as np\n",
        "import pandas as pd\n",
        "from sklearn.linear_model import LinearRegression\n",
        "\n",
        "# Load data from the CSV file\n",
        "data = pd.read_csv('housingPrices.csv')  # Adjust the path if necessary\n",
        "\n",
        "# Separate features (X) and target (y)\n",
        "X = data[['SquareFootage', 'Bedrooms']]  # Features: SquareFootage and Bedrooms\n",
        "y = data['Price']  # Target: Price\n",
        "\n",
        "# Create a Linear Regression model\n",
        "model = LinearRegression()\n",
        "\n",
        "# Train the model (fit the data)\n",
        "model.fit(X, y)\n",
        "\n",
        "# Get the coefficients (slopes) and intercept\n",
        "coefficients = model.coef_\n",
        "intercept = model.intercept_\n",
        "\n",
        "print(\"Coefficients:\", coefficients)\n",
        "print(\"Intercept:\", intercept)\n",
        "\n",
        "# Make predictions for new data\n",
        "new_data = pd.DataFrame([[1600, 3], [2200, 4]], columns=['SquareFootage', 'Bedrooms'])\n",
        "predictions = model.predict(new_data)\n",
        "\n",
        "print(\"Predictions:\", predictions)\n",
        "\n",
        "# Example of accessing single values\n",
        "print(f\"Coefficient for square footage: {coefficients[0]}\")\n",
        "print(f\"Coefficient for number of bedrooms: {coefficients[1]}\")"
      ]
    }
  ]
}